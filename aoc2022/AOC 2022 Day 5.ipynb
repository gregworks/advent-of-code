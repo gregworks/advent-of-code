{
 "cells": [
  {
   "cell_type": "markdown",
   "metadata": {},
   "source": [
    "# Part 1"
   ]
  },
  {
   "cell_type": "code",
   "execution_count": 1,
   "metadata": {
    "ExecuteTime": {
     "end_time": "2022-12-05T06:11:22.184239Z",
     "start_time": "2022-12-05T06:11:20.288947Z"
    }
   },
   "outputs": [
    {
     "name": "stdout",
     "output_type": "stream",
     "text": [
      "Requirement already satisfied: pyperclip in /Users/greg/anaconda3/lib/python3.7/site-packages (1.8.2)\n",
      "Note: you may need to restart the kernel to use updated packages.\n"
     ]
    }
   ],
   "source": [
    "%pip install pyperclip"
   ]
  },
  {
   "cell_type": "code",
   "execution_count": 2,
   "metadata": {
    "ExecuteTime": {
     "end_time": "2022-12-05T06:11:23.232606Z",
     "start_time": "2022-12-05T06:11:22.186350Z"
    }
   },
   "outputs": [],
   "source": [
    "import pyperclip\n",
    "import pandas as pd\n",
    "import re"
   ]
  },
  {
   "cell_type": "code",
   "execution_count": 3,
   "metadata": {
    "ExecuteTime": {
     "end_time": "2022-12-05T06:11:23.279405Z",
     "start_time": "2022-12-05T06:11:23.235238Z"
    }
   },
   "outputs": [],
   "source": [
    "copied_text = pyperclip.paste()"
   ]
  },
  {
   "cell_type": "code",
   "execution_count": 4,
   "metadata": {
    "ExecuteTime": {
     "end_time": "2022-12-05T06:11:23.306630Z",
     "start_time": "2022-12-05T06:11:23.282233Z"
    }
   },
   "outputs": [
    {
     "data": {
      "text/plain": [
       "'[N]  '"
      ]
     },
     "execution_count": 4,
     "metadata": {},
     "output_type": "execute_result"
    }
   ],
   "source": [
    "copied_text[0:5]"
   ]
  },
  {
   "cell_type": "code",
   "execution_count": 5,
   "metadata": {
    "ExecuteTime": {
     "end_time": "2022-12-05T06:11:23.323953Z",
     "start_time": "2022-12-05T06:11:23.308303Z"
    }
   },
   "outputs": [],
   "source": [
    "lines = copied_text.split('\\n')"
   ]
  },
  {
   "cell_type": "code",
   "execution_count": 6,
   "metadata": {
    "ExecuteTime": {
     "end_time": "2022-12-05T06:11:23.342103Z",
     "start_time": "2022-12-05T06:11:23.325874Z"
    }
   },
   "outputs": [
    {
     "name": "stdout",
     "output_type": "stream",
     "text": [
      "[N]     [Q]         [N]            \n",
      "[R]     [F] [Q]     [G] [M]        \n",
      "[J]     [Z] [T]     [R] [H] [J]    \n",
      "[T] [H] [G] [R]     [B] [N] [T]    \n",
      "[Z] [J] [J] [G] [F] [Z] [S] [M]    \n",
      "[B] [N] [N] [N] [Q] [W] [L] [Q] [S]\n",
      "[D] [S] [R] [V] [T] [C] [C] [N] [G]\n",
      "[F] [R] [C] [F] [L] [Q] [F] [D] [P]\n",
      " 1   2   3   4   5   6   7   8   9 \n",
      "\n",
      "move 3 from 9 to 4\n",
      "move 2 from 5 to 2\n",
      "move 8 from 1 to 9\n",
      "move 4 from 7 to 1\n",
      "move 5 from 3 to 8\n"
     ]
    }
   ],
   "source": [
    "for line in lines[:15]:\n",
    "    print(line)"
   ]
  },
  {
   "cell_type": "code",
   "execution_count": 7,
   "metadata": {
    "ExecuteTime": {
     "end_time": "2022-12-05T06:11:23.366755Z",
     "start_time": "2022-12-05T06:11:23.344583Z"
    }
   },
   "outputs": [],
   "source": [
    "crate_diagram = lines[0:9]\n",
    "crates = lines[0:8]"
   ]
  },
  {
   "cell_type": "code",
   "execution_count": 8,
   "metadata": {
    "ExecuteTime": {
     "end_time": "2022-12-05T06:11:23.392632Z",
     "start_time": "2022-12-05T06:11:23.374572Z"
    }
   },
   "outputs": [
    {
     "data": {
      "text/plain": [
       "['[N]     [Q]         [N]            ',\n",
       " '[R]     [F] [Q]     [G] [M]        ',\n",
       " '[J]     [Z] [T]     [R] [H] [J]    ',\n",
       " '[T] [H] [G] [R]     [B] [N] [T]    ',\n",
       " '[Z] [J] [J] [G] [F] [Z] [S] [M]    ',\n",
       " '[B] [N] [N] [N] [Q] [W] [L] [Q] [S]',\n",
       " '[D] [S] [R] [V] [T] [C] [C] [N] [G]',\n",
       " '[F] [R] [C] [F] [L] [Q] [F] [D] [P]',\n",
       " ' 1   2   3   4   5   6   7   8   9 ']"
      ]
     },
     "execution_count": 8,
     "metadata": {},
     "output_type": "execute_result"
    }
   ],
   "source": [
    "crate_diagram"
   ]
  },
  {
   "cell_type": "code",
   "execution_count": 9,
   "metadata": {
    "ExecuteTime": {
     "end_time": "2022-12-05T06:11:23.412339Z",
     "start_time": "2022-12-05T06:11:23.395921Z"
    }
   },
   "outputs": [
    {
     "data": {
      "text/plain": [
       "['[N]     [Q]         [N]            ',\n",
       " '[R]     [F] [Q]     [G] [M]        ',\n",
       " '[J]     [Z] [T]     [R] [H] [J]    ',\n",
       " '[T] [H] [G] [R]     [B] [N] [T]    ',\n",
       " '[Z] [J] [J] [G] [F] [Z] [S] [M]    ',\n",
       " '[B] [N] [N] [N] [Q] [W] [L] [Q] [S]',\n",
       " '[D] [S] [R] [V] [T] [C] [C] [N] [G]',\n",
       " '[F] [R] [C] [F] [L] [Q] [F] [D] [P]']"
      ]
     },
     "execution_count": 9,
     "metadata": {},
     "output_type": "execute_result"
    }
   ],
   "source": [
    "crates"
   ]
  },
  {
   "cell_type": "code",
   "execution_count": 10,
   "metadata": {
    "ExecuteTime": {
     "end_time": "2022-12-05T06:11:23.430452Z",
     "start_time": "2022-12-05T06:11:23.413994Z"
    }
   },
   "outputs": [],
   "source": [
    "procedure = lines[10:]"
   ]
  },
  {
   "cell_type": "code",
   "execution_count": 11,
   "metadata": {
    "ExecuteTime": {
     "end_time": "2022-12-05T06:11:23.448606Z",
     "start_time": "2022-12-05T06:11:23.432030Z"
    }
   },
   "outputs": [
    {
     "data": {
      "text/plain": [
       "'move 3 from 9 to 4'"
      ]
     },
     "execution_count": 11,
     "metadata": {},
     "output_type": "execute_result"
    }
   ],
   "source": [
    "procedure[0]"
   ]
  },
  {
   "cell_type": "code",
   "execution_count": 12,
   "metadata": {
    "ExecuteTime": {
     "end_time": "2022-12-05T06:11:23.467371Z",
     "start_time": "2022-12-05T06:11:23.450275Z"
    }
   },
   "outputs": [],
   "source": [
    "index_of_stack = [crate_diagram[8].find(str(num)) for num in range(1,10)]"
   ]
  },
  {
   "cell_type": "code",
   "execution_count": 13,
   "metadata": {
    "ExecuteTime": {
     "end_time": "2022-12-05T06:11:23.487380Z",
     "start_time": "2022-12-05T06:11:23.468771Z"
    }
   },
   "outputs": [
    {
     "name": "stdout",
     "output_type": "stream",
     "text": [
      "1 1\n",
      "2 5\n",
      "3 9\n",
      "4 13\n",
      "5 17\n",
      "6 21\n",
      "7 25\n",
      "8 29\n",
      "9 33\n"
     ]
    }
   ],
   "source": [
    "crate_dict = {}\n",
    "for num, index in enumerate(index_of_stack):\n",
    "    actual_num = num+1\n",
    "    print(actual_num,index)\n",
    "    crate_dict[actual_num] = []\n",
    "    for crate_line in crates:\n",
    "        if crate_line[index] != ' ':\n",
    "            crate_dict[actual_num].append(crate_line[index])\n",
    "    crate_dict[actual_num].reverse()"
   ]
  },
  {
   "cell_type": "code",
   "execution_count": 14,
   "metadata": {
    "ExecuteTime": {
     "end_time": "2022-12-05T06:11:23.508793Z",
     "start_time": "2022-12-05T06:11:23.489145Z"
    }
   },
   "outputs": [
    {
     "data": {
      "text/plain": [
       "[2, 1]"
      ]
     },
     "execution_count": 14,
     "metadata": {},
     "output_type": "execute_result"
    }
   ],
   "source": [
    "test = [1,2]\n",
    "test.reverse()\n",
    "test"
   ]
  },
  {
   "cell_type": "code",
   "execution_count": 15,
   "metadata": {
    "ExecuteTime": {
     "end_time": "2022-12-05T06:11:23.527806Z",
     "start_time": "2022-12-05T06:11:23.510464Z"
    }
   },
   "outputs": [
    {
     "data": {
      "text/plain": [
       "{1: ['F', 'D', 'B', 'Z', 'T', 'J', 'R', 'N'],\n",
       " 2: ['R', 'S', 'N', 'J', 'H'],\n",
       " 3: ['C', 'R', 'N', 'J', 'G', 'Z', 'F', 'Q'],\n",
       " 4: ['F', 'V', 'N', 'G', 'R', 'T', 'Q'],\n",
       " 5: ['L', 'T', 'Q', 'F'],\n",
       " 6: ['Q', 'C', 'W', 'Z', 'B', 'R', 'G', 'N'],\n",
       " 7: ['F', 'C', 'L', 'S', 'N', 'H', 'M'],\n",
       " 8: ['D', 'N', 'Q', 'M', 'T', 'J'],\n",
       " 9: ['P', 'G', 'S']}"
      ]
     },
     "execution_count": 15,
     "metadata": {},
     "output_type": "execute_result"
    }
   ],
   "source": [
    "crate_dict"
   ]
  },
  {
   "cell_type": "code",
   "execution_count": 16,
   "metadata": {
    "ExecuteTime": {
     "end_time": "2022-12-05T06:11:23.546665Z",
     "start_time": "2022-12-05T06:11:23.529864Z"
    }
   },
   "outputs": [
    {
     "data": {
      "text/plain": [
       "['move 3 from 9 to 4',\n",
       " 'move 2 from 5 to 2',\n",
       " 'move 8 from 1 to 9',\n",
       " 'move 4 from 7 to 1',\n",
       " 'move 5 from 3 to 8',\n",
       " 'move 3 from 3 to 7',\n",
       " 'move 11 from 8 to 3',\n",
       " 'move 7 from 3 to 6',\n",
       " 'move 2 from 5 to 9',\n",
       " 'move 3 from 1 to 6',\n",
       " 'move 6 from 2 to 4']"
      ]
     },
     "execution_count": 16,
     "metadata": {},
     "output_type": "execute_result"
    }
   ],
   "source": [
    "procedure[0:11]"
   ]
  },
  {
   "cell_type": "code",
   "execution_count": 17,
   "metadata": {
    "ExecuteTime": {
     "end_time": "2022-12-05T06:11:23.566399Z",
     "start_time": "2022-12-05T06:11:23.548327Z"
    }
   },
   "outputs": [
    {
     "data": {
      "text/plain": [
       "[['3', '9', '4'], ['2', '5', '2']]"
      ]
     },
     "execution_count": 17,
     "metadata": {},
     "output_type": "execute_result"
    }
   ],
   "source": [
    "procedure_lists = [re.findall(r'\\d+', proc) for proc in procedure]\n",
    "procedure_lists[0:2]"
   ]
  },
  {
   "cell_type": "code",
   "execution_count": 18,
   "metadata": {
    "ExecuteTime": {
     "end_time": "2022-12-05T06:11:23.585627Z",
     "start_time": "2022-12-05T06:11:23.567811Z"
    }
   },
   "outputs": [],
   "source": [
    "for proc in procedure_lists:\n",
    "    proc = [int(s) for s in proc]\n",
    "    for n in range(proc[0]):\n",
    "        crate_dict[proc[2]].append(crate_dict[proc[1]].pop())"
   ]
  },
  {
   "cell_type": "code",
   "execution_count": 19,
   "metadata": {
    "ExecuteTime": {
     "end_time": "2022-12-05T06:11:23.604806Z",
     "start_time": "2022-12-05T06:11:23.587279Z"
    }
   },
   "outputs": [
    {
     "data": {
      "text/plain": [
       "{1: ['B', 'Q', 'L', 'J', 'S', 'Z', 'R', 'B', 'N', 'Q', 'Z', 'G', 'Q'],\n",
       " 2: ['F', 'N'],\n",
       " 3: ['N'],\n",
       " 4: ['D', 'T'],\n",
       " 5: ['W', 'C', 'H', 'R', 'N', 'G'],\n",
       " 6: ['L', 'R', 'T'],\n",
       " 7: ['J', 'C', 'F', 'T', 'H', 'F', 'D', 'N', 'Z', 'C', 'F', 'P'],\n",
       " 8: ['G', 'G', 'T', 'Q', 'N', 'J', 'J', 'R', 'M', 'Q', 'V', 'R', 'M', 'F'],\n",
       " 9: ['S', 'S', 'N']}"
      ]
     },
     "execution_count": 19,
     "metadata": {},
     "output_type": "execute_result"
    }
   ],
   "source": [
    "crate_dict"
   ]
  },
  {
   "cell_type": "code",
   "execution_count": 20,
   "metadata": {
    "ExecuteTime": {
     "end_time": "2022-12-05T06:11:23.623366Z",
     "start_time": "2022-12-05T06:11:23.606306Z"
    }
   },
   "outputs": [
    {
     "data": {
      "text/plain": [
       "'QNNTGTPFN'"
      ]
     },
     "execution_count": 20,
     "metadata": {},
     "output_type": "execute_result"
    }
   ],
   "source": [
    "''.join([ value[-1] for (key,value) in crate_dict.items()])"
   ]
  },
  {
   "cell_type": "markdown",
   "metadata": {
    "ExecuteTime": {
     "end_time": "2022-12-04T05:47:26.553888Z",
     "start_time": "2022-12-04T05:47:26.535405Z"
    }
   },
   "source": [
    "# Part 2"
   ]
  },
  {
   "cell_type": "code",
   "execution_count": 21,
   "metadata": {
    "ExecuteTime": {
     "end_time": "2022-12-05T06:11:23.641655Z",
     "start_time": "2022-12-05T06:11:23.624964Z"
    }
   },
   "outputs": [],
   "source": [
    "crate_dict = {}\n",
    "for num, index in enumerate(index_of_stack):\n",
    "    actual_num = num+1\n",
    "    #print(actual_num,index)\n",
    "    crate_dict[actual_num] = []\n",
    "    for crate_line in crates:\n",
    "        if crate_line[index] != ' ':\n",
    "            crate_dict[actual_num].append(crate_line[index])\n",
    "    crate_dict[actual_num].reverse()"
   ]
  },
  {
   "cell_type": "code",
   "execution_count": 22,
   "metadata": {
    "ExecuteTime": {
     "end_time": "2022-12-05T06:11:23.660989Z",
     "start_time": "2022-12-05T06:11:23.643291Z"
    }
   },
   "outputs": [
    {
     "name": "stdout",
     "output_type": "stream",
     "text": [
      "['move 3 from 9 to 4', 'move 2 from 5 to 2']\n"
     ]
    },
    {
     "data": {
      "text/plain": [
       "[['3', '9', '4'], ['2', '5', '2']]"
      ]
     },
     "execution_count": 22,
     "metadata": {},
     "output_type": "execute_result"
    }
   ],
   "source": [
    "print(procedure[0:2])\n",
    "procedure_lists[0:2]"
   ]
  },
  {
   "cell_type": "code",
   "execution_count": 23,
   "metadata": {
    "ExecuteTime": {
     "end_time": "2022-12-05T06:11:23.683853Z",
     "start_time": "2022-12-05T06:11:23.666261Z"
    }
   },
   "outputs": [
    {
     "data": {
      "text/plain": [
       "{1: ['F', 'D', 'B', 'Z', 'T', 'J', 'R', 'N'],\n",
       " 2: ['R', 'S', 'N', 'J', 'H'],\n",
       " 3: ['C', 'R', 'N', 'J', 'G', 'Z', 'F', 'Q'],\n",
       " 4: ['F', 'V', 'N', 'G', 'R', 'T', 'Q'],\n",
       " 5: ['L', 'T', 'Q', 'F'],\n",
       " 6: ['Q', 'C', 'W', 'Z', 'B', 'R', 'G', 'N'],\n",
       " 7: ['F', 'C', 'L', 'S', 'N', 'H', 'M'],\n",
       " 8: ['D', 'N', 'Q', 'M', 'T', 'J'],\n",
       " 9: ['P', 'G', 'S']}"
      ]
     },
     "execution_count": 23,
     "metadata": {},
     "output_type": "execute_result"
    }
   ],
   "source": [
    "crate_dict"
   ]
  },
  {
   "cell_type": "code",
   "execution_count": 24,
   "metadata": {
    "ExecuteTime": {
     "end_time": "2022-12-05T06:11:23.704922Z",
     "start_time": "2022-12-05T06:11:23.685807Z"
    }
   },
   "outputs": [],
   "source": [
    "for i, proc in enumerate(procedure_lists):\n",
    "    #print(i)\n",
    "    proc = [int(s) for s in proc]\n",
    "    for el in crate_dict[proc[1]][-proc[0]:]:\n",
    "        crate_dict[proc[2]].append(el)\n",
    "        crate_dict[proc[1]].reverse()\n",
    "        crate_dict[proc[1]].remove(el)\n",
    "        crate_dict[proc[1]].reverse()\n",
    "    "
   ]
  },
  {
   "cell_type": "code",
   "execution_count": 25,
   "metadata": {
    "ExecuteTime": {
     "end_time": "2022-12-05T06:11:23.724140Z",
     "start_time": "2022-12-05T06:11:23.706422Z"
    }
   },
   "outputs": [
    {
     "data": {
      "text/plain": [
       "{1: ['F', 'Q', 'Q', 'Q', 'Z', 'Z', 'T', 'W', 'C', 'R', 'Z', 'T', 'G'],\n",
       " 2: ['R', 'G'],\n",
       " 3: ['N'],\n",
       " 4: ['F', 'P'],\n",
       " 5: ['D', 'L', 'V', 'F', 'G', 'J'],\n",
       " 6: ['M', 'N', 'B'],\n",
       " 7: ['J', 'J', 'H', 'D', 'F', 'N', 'J', 'Q', 'F', 'R', 'R', 'T'],\n",
       " 8: ['N', 'B', 'N', 'S', 'L', 'G', 'M', 'C', 'N', 'C', 'H', 'S', 'N', 'T'],\n",
       " 9: ['Q', 'S', 'R']}"
      ]
     },
     "execution_count": 25,
     "metadata": {},
     "output_type": "execute_result"
    }
   ],
   "source": [
    "crate_dict"
   ]
  },
  {
   "cell_type": "code",
   "execution_count": 26,
   "metadata": {
    "ExecuteTime": {
     "end_time": "2022-12-05T06:11:23.742641Z",
     "start_time": "2022-12-05T06:11:23.725729Z"
    }
   },
   "outputs": [
    {
     "data": {
      "text/plain": [
       "'GGNPJBTTR'"
      ]
     },
     "execution_count": 26,
     "metadata": {},
     "output_type": "execute_result"
    }
   ],
   "source": [
    "''.join([ value[-1] for (key,value) in crate_dict.items()])"
   ]
  }
 ],
 "metadata": {
  "kernelspec": {
   "display_name": "Python 3",
   "language": "python",
   "name": "python3"
  },
  "language_info": {
   "codemirror_mode": {
    "name": "ipython",
    "version": 3
   },
   "file_extension": ".py",
   "mimetype": "text/x-python",
   "name": "python",
   "nbconvert_exporter": "python",
   "pygments_lexer": "ipython3",
   "version": "3.7.6"
  }
 },
 "nbformat": 4,
 "nbformat_minor": 4
}
