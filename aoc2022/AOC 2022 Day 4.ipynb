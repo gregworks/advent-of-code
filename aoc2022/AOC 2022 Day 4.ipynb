{
 "cells": [
  {
   "cell_type": "markdown",
   "metadata": {},
   "source": [
    "# Part 1"
   ]
  },
  {
   "cell_type": "code",
   "execution_count": 1,
   "metadata": {
    "ExecuteTime": {
     "end_time": "2022-12-04T05:13:15.663929Z",
     "start_time": "2022-12-04T05:13:12.970634Z"
    }
   },
   "outputs": [
    {
     "name": "stdout",
     "output_type": "stream",
     "text": [
      "Requirement already satisfied: pyperclip in /Users/greg/anaconda3/lib/python3.7/site-packages (1.8.2)\n",
      "Note: you may need to restart the kernel to use updated packages.\n"
     ]
    }
   ],
   "source": [
    "%pip install pyperclip"
   ]
  },
  {
   "cell_type": "code",
   "execution_count": 2,
   "metadata": {
    "ExecuteTime": {
     "end_time": "2022-12-04T05:13:16.914027Z",
     "start_time": "2022-12-04T05:13:15.666486Z"
    }
   },
   "outputs": [],
   "source": [
    "import pyperclip\n",
    "import pandas as pd"
   ]
  },
  {
   "cell_type": "code",
   "execution_count": 3,
   "metadata": {
    "ExecuteTime": {
     "end_time": "2022-12-04T05:13:16.967476Z",
     "start_time": "2022-12-04T05:13:16.916659Z"
    }
   },
   "outputs": [],
   "source": [
    "copied_text = pyperclip.paste()"
   ]
  },
  {
   "cell_type": "code",
   "execution_count": 4,
   "metadata": {
    "ExecuteTime": {
     "end_time": "2022-12-04T05:13:16.994807Z",
     "start_time": "2022-12-04T05:13:16.969849Z"
    }
   },
   "outputs": [
    {
     "data": {
      "text/plain": [
       "'35-73'"
      ]
     },
     "execution_count": 4,
     "metadata": {},
     "output_type": "execute_result"
    }
   ],
   "source": [
    "copied_text[0:5]"
   ]
  },
  {
   "cell_type": "code",
   "execution_count": 5,
   "metadata": {
    "ExecuteTime": {
     "end_time": "2022-12-04T05:15:47.284217Z",
     "start_time": "2022-12-04T05:15:47.265808Z"
    }
   },
   "outputs": [],
   "source": [
    "assigned_pairs = copied_text.split('\\n')"
   ]
  },
  {
   "cell_type": "code",
   "execution_count": 8,
   "metadata": {
    "ExecuteTime": {
     "end_time": "2022-12-04T05:17:44.566177Z",
     "start_time": "2022-12-04T05:17:44.549610Z"
    }
   },
   "outputs": [],
   "source": [
    "split_pairs = [pair.split(',') for pair in assigned_pairs]"
   ]
  },
  {
   "cell_type": "code",
   "execution_count": 17,
   "metadata": {
    "ExecuteTime": {
     "end_time": "2022-12-04T05:27:41.405548Z",
     "start_time": "2022-12-04T05:27:41.368848Z"
    }
   },
   "outputs": [
    {
     "name": "stdout",
     "output_type": "stream",
     "text": [
      "507\n"
     ]
    }
   ],
   "source": [
    "count = 0\n",
    "for pair in split_pairs:\n",
    "    pair_0 = [int(el) for el in pair[0].split('-')]\n",
    "    pair_1 = [int(el) for el in pair[1].split('-')]\n",
    "    \n",
    "    pair_0_nums = list(range(pair_0[0], pair_0[1]+1))\n",
    "    pair_1_nums = list(range(pair_1[0], pair_1[1]+1))\n",
    "    if all(el in pair_1_nums for el in pair_0_nums) | all(el in pair_0_nums for el in pair_1_nums):\n",
    "        count += 1\n",
    "print(count)"
   ]
  },
  {
   "cell_type": "markdown",
   "metadata": {},
   "source": [
    "# Part 2"
   ]
  },
  {
   "cell_type": "code",
   "execution_count": 19,
   "metadata": {
    "ExecuteTime": {
     "end_time": "2022-12-04T05:29:34.206622Z",
     "start_time": "2022-12-04T05:29:34.183193Z"
    }
   },
   "outputs": [
    {
     "name": "stdout",
     "output_type": "stream",
     "text": [
      "897\n"
     ]
    }
   ],
   "source": [
    "count = 0\n",
    "for pair in split_pairs:\n",
    "    pair_0 = [int(el) for el in pair[0].split('-')]\n",
    "    pair_1 = [int(el) for el in pair[1].split('-')]\n",
    "    \n",
    "    pair_0_nums = list(range(pair_0[0], pair_0[1]+1))\n",
    "    pair_1_nums = list(range(pair_1[0], pair_1[1]+1))\n",
    "    if any(el in pair_1_nums for el in pair_0_nums):\n",
    "        count += 1\n",
    "print(count)"
   ]
  }
 ],
 "metadata": {
  "kernelspec": {
   "display_name": "Python 3",
   "language": "python",
   "name": "python3"
  },
  "language_info": {
   "codemirror_mode": {
    "name": "ipython",
    "version": 3
   },
   "file_extension": ".py",
   "mimetype": "text/x-python",
   "name": "python",
   "nbconvert_exporter": "python",
   "pygments_lexer": "ipython3",
   "version": "3.7.6"
  }
 },
 "nbformat": 4,
 "nbformat_minor": 4
}
