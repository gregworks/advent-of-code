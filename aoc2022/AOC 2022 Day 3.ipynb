{
 "cells": [
  {
   "cell_type": "markdown",
   "metadata": {},
   "source": [
    "# Part 1"
   ]
  },
  {
   "cell_type": "code",
   "execution_count": 1,
   "metadata": {
    "ExecuteTime": {
     "end_time": "2022-12-03T06:45:20.637689Z",
     "start_time": "2022-12-03T06:45:18.260435Z"
    }
   },
   "outputs": [
    {
     "name": "stdout",
     "output_type": "stream",
     "text": [
      "Requirement already satisfied: pyperclip in /Users/greg/anaconda3/lib/python3.7/site-packages (1.8.2)\n",
      "Note: you may need to restart the kernel to use updated packages.\n"
     ]
    }
   ],
   "source": [
    "%pip install pyperclip"
   ]
  },
  {
   "cell_type": "code",
   "execution_count": 104,
   "metadata": {
    "ExecuteTime": {
     "end_time": "2022-12-04T02:14:57.643168Z",
     "start_time": "2022-12-04T02:14:57.625602Z"
    }
   },
   "outputs": [],
   "source": [
    "import pyperclip\n",
    "import pandas as pd"
   ]
  },
  {
   "cell_type": "code",
   "execution_count": 105,
   "metadata": {
    "ExecuteTime": {
     "end_time": "2022-12-04T02:14:58.029744Z",
     "start_time": "2022-12-04T02:14:57.982753Z"
    }
   },
   "outputs": [],
   "source": [
    "copied_text = pyperclip.paste()"
   ]
  },
  {
   "cell_type": "code",
   "execution_count": 106,
   "metadata": {
    "ExecuteTime": {
     "end_time": "2022-12-04T02:14:58.606191Z",
     "start_time": "2022-12-04T02:14:58.583793Z"
    }
   },
   "outputs": [
    {
     "data": {
      "text/plain": [
       "'qFdBB'"
      ]
     },
     "execution_count": 106,
     "metadata": {},
     "output_type": "execute_result"
    }
   ],
   "source": [
    "copied_text[0:5]"
   ]
  },
  {
   "cell_type": "code",
   "execution_count": 107,
   "metadata": {
    "ExecuteTime": {
     "end_time": "2022-12-04T02:14:59.651842Z",
     "start_time": "2022-12-04T02:14:59.633958Z"
    }
   },
   "outputs": [],
   "source": [
    "rucksacks = copied_text.split('\\n')"
   ]
  },
  {
   "cell_type": "code",
   "execution_count": 115,
   "metadata": {
    "ExecuteTime": {
     "end_time": "2022-12-04T02:15:33.715877Z",
     "start_time": "2022-12-04T02:15:33.699506Z"
    }
   },
   "outputs": [],
   "source": [
    "rucksacks_compartments = [(ruck[0:len(ruck)//2],ruck[len(ruck)//2:len(ruck)]) for ruck in rucksacks]"
   ]
  },
  {
   "cell_type": "code",
   "execution_count": 116,
   "metadata": {
    "ExecuteTime": {
     "end_time": "2022-12-04T02:15:33.926625Z",
     "start_time": "2022-12-04T02:15:33.909977Z"
    }
   },
   "outputs": [
    {
     "data": {
      "text/plain": [
       "1"
      ]
     },
     "execution_count": 116,
     "metadata": {},
     "output_type": "execute_result"
    }
   ],
   "source": [
    "ord('a')-96"
   ]
  },
  {
   "cell_type": "code",
   "execution_count": 117,
   "metadata": {
    "ExecuteTime": {
     "end_time": "2022-12-04T02:15:34.134136Z",
     "start_time": "2022-12-04T02:15:34.117810Z"
    }
   },
   "outputs": [
    {
     "data": {
      "text/plain": [
       "27"
      ]
     },
     "execution_count": 117,
     "metadata": {},
     "output_type": "execute_result"
    }
   ],
   "source": [
    "ord('A'.lower())-70"
   ]
  },
  {
   "cell_type": "code",
   "execution_count": 128,
   "metadata": {
    "ExecuteTime": {
     "end_time": "2022-12-04T02:17:38.055317Z",
     "start_time": "2022-12-04T02:17:38.037883Z"
    }
   },
   "outputs": [
    {
     "name": "stdout",
     "output_type": "stream",
     "text": [
      "qFdBBvtHHfvRlfvsqldvqjPpQmnQmjnjjjTRTLGRNG 42\n",
      "('qFdBBvtHHfvRlfvsqldvq', 'jPpQmnQmjnjjjTRTLGRNG') 21 21\n"
     ]
    }
   ],
   "source": [
    "print(rucksacks[0], len(rucksacks[0]))\n",
    "print(rucksacks_compartments[0], len(rucksacks_compartments[0][0]), len(rucksacks_compartments[0][1]))"
   ]
  },
  {
   "cell_type": "code",
   "execution_count": 133,
   "metadata": {
    "ExecuteTime": {
     "end_time": "2022-12-04T02:19:16.817904Z",
     "start_time": "2022-12-04T02:19:16.798757Z"
    }
   },
   "outputs": [],
   "source": [
    "for rc in rucksacks_compartments:\n",
    "    if len(rc[0]) != len(rc[1]):\n",
    "        print(rc)"
   ]
  },
  {
   "cell_type": "code",
   "execution_count": 144,
   "metadata": {
    "ExecuteTime": {
     "end_time": "2022-12-04T02:26:52.969073Z",
     "start_time": "2022-12-04T02:26:52.949443Z"
    }
   },
   "outputs": [],
   "source": [
    "intersecting_letters = [list(set(rc[0]).intersection(set(rc[1])))[0] for rc in rucksacks_compartments]"
   ]
  },
  {
   "cell_type": "code",
   "execution_count": 159,
   "metadata": {
    "ExecuteTime": {
     "end_time": "2022-12-04T02:32:41.375523Z",
     "start_time": "2022-12-04T02:32:41.354542Z"
    }
   },
   "outputs": [
    {
     "data": {
      "text/plain": [
       "8039"
      ]
     },
     "execution_count": 159,
     "metadata": {},
     "output_type": "execute_result"
    }
   ],
   "source": [
    "letter_priorities = []\n",
    "for letter in intersecting_letters:\n",
    "    if letter.islower():\n",
    "        priority = ord(letter)-96\n",
    "    else:\n",
    "        priority = ord(letter.lower())-70\n",
    "    letter_priorities.append(priority)\n",
    "sum(letter_priorities)"
   ]
  },
  {
   "cell_type": "markdown",
   "metadata": {
    "ExecuteTime": {
     "end_time": "2022-12-04T02:34:52.650505Z",
     "start_time": "2022-12-04T02:34:52.635209Z"
    }
   },
   "source": [
    "# Part 2"
   ]
  },
  {
   "cell_type": "code",
   "execution_count": 165,
   "metadata": {
    "ExecuteTime": {
     "end_time": "2022-12-04T02:39:07.687649Z",
     "start_time": "2022-12-04T02:39:07.668570Z"
    }
   },
   "outputs": [],
   "source": [
    "grouped_rucksacks = [rucksacks[n:n+3] for n in range(0, len(rucksacks), 3)]"
   ]
  },
  {
   "cell_type": "code",
   "execution_count": 171,
   "metadata": {
    "ExecuteTime": {
     "end_time": "2022-12-04T02:41:35.199631Z",
     "start_time": "2022-12-04T02:41:35.180575Z"
    }
   },
   "outputs": [],
   "source": [
    "group_letters = [list(set(group[0]).intersection(group[1]).intersection(group[2]))[0] for group in grouped_rucksacks]"
   ]
  },
  {
   "cell_type": "code",
   "execution_count": 172,
   "metadata": {
    "ExecuteTime": {
     "end_time": "2022-12-04T02:41:35.436152Z",
     "start_time": "2022-12-04T02:41:35.418912Z"
    }
   },
   "outputs": [
    {
     "data": {
      "text/plain": [
       "2510"
      ]
     },
     "execution_count": 172,
     "metadata": {},
     "output_type": "execute_result"
    }
   ],
   "source": [
    "letter_priorities = []\n",
    "for letter in group_letters:\n",
    "    if letter.islower():\n",
    "        priority = ord(letter)-96\n",
    "    else:\n",
    "        priority = ord(letter.lower())-70\n",
    "    letter_priorities.append(priority)\n",
    "sum(letter_priorities)"
   ]
  }
 ],
 "metadata": {
  "kernelspec": {
   "display_name": "Python 3",
   "language": "python",
   "name": "python3"
  },
  "language_info": {
   "codemirror_mode": {
    "name": "ipython",
    "version": 3
   },
   "file_extension": ".py",
   "mimetype": "text/x-python",
   "name": "python",
   "nbconvert_exporter": "python",
   "pygments_lexer": "ipython3",
   "version": "3.7.6"
  }
 },
 "nbformat": 4,
 "nbformat_minor": 4
}
